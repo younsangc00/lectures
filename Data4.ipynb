{
 "cells": [
  {
   "cell_type": "code",
   "execution_count": 12,
   "id": "c27f0115-4295-474e-951a-dd70732f8096",
   "metadata": {},
   "outputs": [],
   "source": [
    "dal=['쌍','쇠','복','돌','팽','육','쌍','개','칠','갑','삼','방']\n",
    "il=['봉','구','욕','포','똥','삼','식','석','놈','님','년','돌','단','득','방','질','장','걸','래','룡','동','순','자','박','창','언','것','포','만','단','국']\n",
    "\n",
    "    "
   ]
  },
  {
   "cell_type": "code",
   "execution_count": 13,
   "id": "332e4d1f-813a-4c7d-905e-aa09c45c941f",
   "metadata": {},
   "outputs": [
    {
     "data": {
      "text/plain": [
       "['쌍', '쇠', '복', '돌', '팽', '육', '쌍', '개', '칠', '갑', '삼', '방']"
      ]
     },
     "execution_count": 13,
     "metadata": {},
     "output_type": "execute_result"
    }
   ],
   "source": [
    "dal"
   ]
  },
  {
   "cell_type": "code",
   "execution_count": 14,
   "id": "68fd69a6-126c-4d71-8c22-dda133a5b569",
   "metadata": {},
   "outputs": [
    {
     "data": {
      "text/plain": [
       "['봉',\n",
       " '구',\n",
       " '욕',\n",
       " '포',\n",
       " '똥',\n",
       " '삼',\n",
       " '식',\n",
       " '석',\n",
       " '놈',\n",
       " '님',\n",
       " '년',\n",
       " '돌',\n",
       " '단',\n",
       " '득',\n",
       " '방',\n",
       " '질',\n",
       " '장',\n",
       " '걸',\n",
       " '래',\n",
       " '룡',\n",
       " '동',\n",
       " '순',\n",
       " '자',\n",
       " '박',\n",
       " '창',\n",
       " '언',\n",
       " '것',\n",
       " '포',\n",
       " '만',\n",
       " '단',\n",
       " '국']"
      ]
     },
     "execution_count": 14,
     "metadata": {},
     "output_type": "execute_result"
    }
   ],
   "source": [
    "il"
   ]
  },
  {
   "cell_type": "code",
   "execution_count": 15,
   "id": "aee882fa-7c48-4af2-8bf4-c8ceaeb86be0",
   "metadata": {},
   "outputs": [],
   "source": [
    "def get_my_chosun_name(family_name,month,day):\n",
    "    chosun_name=family_name+dal[month-1]+il[day-1]\n",
    "    print(\"당신의 조선 이름은\",chosun_name,\"입니다.\")"
   ]
  },
  {
   "cell_type": "code",
   "execution_count": 16,
   "id": "2af60514-a52d-4a7b-b13e-6e86fdd938b7",
   "metadata": {},
   "outputs": [
    {
     "name": "stdout",
     "output_type": "stream",
     "text": [
      "당신의 조선 이름은 조육단 입니다.\n"
     ]
    }
   ],
   "source": [
    "get_my_chosun_name('조',6,13)"
   ]
  }
 ],
 "metadata": {
  "kernelspec": {
   "display_name": "Python 3 (ipykernel)",
   "language": "python",
   "name": "python3"
  },
  "language_info": {
   "codemirror_mode": {
    "name": "ipython",
    "version": 3
   },
   "file_extension": ".py",
   "mimetype": "text/x-python",
   "name": "python",
   "nbconvert_exporter": "python",
   "pygments_lexer": "ipython3",
   "version": "3.9.12"
  }
 },
 "nbformat": 4,
 "nbformat_minor": 5
}
