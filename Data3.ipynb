{
 "cells": [
  {
   "cell_type": "code",
   "execution_count": 1,
   "id": "8a219f55-60c4-445c-8cc9-cd99fd880a5c",
   "metadata": {},
   "outputs": [],
   "source": [
    "hairstyles=[\"bouffant\",\"pixie\",\"dreadlocks\",\"crew\",\"bowl\",\"bob\",\"mohawk\",\"flattop\"]"
   ]
  },
  {
   "cell_type": "code",
   "execution_count": 2,
   "id": "dbdfd48e-b259-4fc2-a30e-f338dc96be2b",
   "metadata": {},
   "outputs": [],
   "source": [
    "prices=[30,25,40,20,20,35,50,35]"
   ]
  },
  {
   "cell_type": "code",
   "execution_count": 3,
   "id": "ccfac4da-7e3d-41f9-b978-2f8177b2cc06",
   "metadata": {},
   "outputs": [],
   "source": [
    "last_week=[2,3,5,8,4,4,6,2]"
   ]
  },
  {
   "cell_type": "code",
   "execution_count": 4,
   "id": "7b55e411-17d4-4ffb-940a-ed72d9f42e41",
   "metadata": {},
   "outputs": [
    {
     "name": "stdout",
     "output_type": "stream",
     "text": [
      "255\n"
     ]
    }
   ],
   "source": [
    "#\n",
    "total_price=0\n",
    "total_price=sum(prices)\n",
    "print(total_price)\n"
   ]
  },
  {
   "cell_type": "code",
   "execution_count": 8,
   "id": "53bb050a-5b48-4113-9f12-ecd300769954",
   "metadata": {},
   "outputs": [
    {
     "name": "stdout",
     "output_type": "stream",
     "text": [
      "Average_ pirce is  31.875\n"
     ]
    }
   ],
   "source": [
    "size=len(prices)\n",
    "average_price=total_price/size\n",
    "print(\"Average_ pirce is \",average_price)"
   ]
  },
  {
   "cell_type": "code",
   "execution_count": 6,
   "id": "47290c60-fa73-4da8-8396-63c3d9cf51b7",
   "metadata": {},
   "outputs": [
    {
     "name": "stdout",
     "output_type": "stream",
     "text": [
      "[25, 20, 35, 15, 15, 30, 45, 30]\n"
     ]
    }
   ],
   "source": [
    "new_prices=[i-5 for i in prices]\n",
    "print(new_prices)"
   ]
  },
  {
   "cell_type": "code",
   "execution_count": 10,
   "id": "abc235c7-1542-407f-b171-6016e086eac7",
   "metadata": {},
   "outputs": [
    {
     "name": "stdout",
     "output_type": "stream",
     "text": [
      "Average daily revenue is 155.0\n"
     ]
    }
   ],
   "source": [
    "total_revenue=0\n",
    "revenue=[prices[i]*last_week[i]for i in range(len(hairstyles))]\n",
    "total_revenue=sum(revenue)\n",
    "average_daily_revenue=total_revenue/7\n",
    "print(\"Average daily revenue is\",average_daily_revenue)"
   ]
  },
  {
   "cell_type": "code",
   "execution_count": 11,
   "id": "9d55f484-d9af-4234-95fe-a784eb99d0f0",
   "metadata": {},
   "outputs": [
    {
     "name": "stdout",
     "output_type": "stream",
     "text": [
      "['bouffant', 'pixie', 'crew', 'bowl']\n"
     ]
    }
   ],
   "source": [
    "cuts_under_30=[hairstyles[i] for i in range(8) if new_prices[i]<30]\n",
    "print(cuts_under_30)"
   ]
  }
 ],
 "metadata": {
  "kernelspec": {
   "display_name": "Python 3 (ipykernel)",
   "language": "python",
   "name": "python3"
  },
  "language_info": {
   "codemirror_mode": {
    "name": "ipython",
    "version": 3
   },
   "file_extension": ".py",
   "mimetype": "text/x-python",
   "name": "python",
   "nbconvert_exporter": "python",
   "pygments_lexer": "ipython3",
   "version": "3.9.12"
  }
 },
 "nbformat": 4,
 "nbformat_minor": 5
}
